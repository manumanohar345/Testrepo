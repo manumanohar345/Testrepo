{
 "cells": [
  {
   "cell_type": "markdown",
   "id": "a048d157",
   "metadata": {},
   "source": [
    "# Data Science Tools and Ecosystem\n"
   ]
  },
  {
   "cell_type": "markdown",
   "id": "9056c313",
   "metadata": {
    "vscode": {
     "languageId": "plaintext"
    }
   },
   "source": [
    "In this notebook, Data Science Tools and Ecosystem are summarized."
   ]
  },
  {
   "cell_type": "markdown",
   "id": "033c76a1",
   "metadata": {
    "vscode": {
     "languageId": "plaintext"
    }
   },
   "source": [
    "Some of the popular languages that Data Scientists use are:\n",
    "\n",
    "1. Python  \n",
    "2. R  \n",
    "3. SQL  \n",
    "4. Julia  \n",
    "5. Scala\n"
   ]
  },
  {
   "cell_type": "markdown",
   "id": "21ff6939",
   "metadata": {
    "vscode": {
     "languageId": "plaintext"
    }
   },
   "source": [
    "Some of the commonly used libraries used by Data Scientists include:\n",
    "\n",
    "1. NumPy  \n",
    "2. pandas  \n",
    "3. Matplotlib  \n",
    "4. scikit-learn  \n",
    "5. TensorFlow  \n",
    "6. seaborn\n"
   ]
  },
  {
   "cell_type": "markdown",
   "id": "eb5639c8",
   "metadata": {
    "vscode": {
     "languageId": "plaintext"
    }
   },
   "source": [
    "| Data Science Tools        |\n",
    "|---------------------------|\n",
    "| Jupyter Notebook          |\n",
    "| RStudio                   |\n",
    "| Visual Studio Code (VS Code) |\n",
    "| Google Colab              |\n",
    "| Apache Zeppelin           |\n",
    "| KNIME                     |\n"
   ]
  },
  {
   "cell_type": "markdown",
   "id": "842ff71a",
   "metadata": {
    "vscode": {
     "languageId": "plaintext"
    }
   },
   "source": [
    "### Below are a few examples of evaluating arithmetic expressions in Python."
   ]
  },
  {
   "cell_type": "markdown",
   "id": "b6ab1ff9",
   "metadata": {
    "vscode": {
     "languageId": "plaintext"
    }
   },
   "source": [
    "```python\n",
    "3 + 5\n",
    "10 - 2\n",
    "6 * 4\n",
    "8 / 2\n",
    "2 ** 3"
   ]
  },
  {
   "cell_type": "markdown",
   "id": "7d353734",
   "metadata": {
    "vscode": {
     "languageId": "plaintext"
    }
   },
   "source": [
    "### This a simple arithmetic expression to mutiply then add integers"
   ]
  },
  {
   "cell_type": "markdown",
   "id": "6e06c080",
   "metadata": {
    "vscode": {
     "languageId": "plaintext"
    }
   },
   "source": [
    "(3*4)+5"
   ]
  },
  {
   "cell_type": "markdown",
   "id": "cdd21945",
   "metadata": {
    "vscode": {
     "languageId": "plaintext"
    }
   },
   "source": [
    "17"
   ]
  },
  {
   "cell_type": "markdown",
   "id": "17c196cc",
   "metadata": {
    "vscode": {
     "languageId": "plaintext"
    }
   },
   "source": [
    "### Converting Minutes to Hours in a Code Cell"
   ]
  },
  {
   "cell_type": "markdown",
   "id": "37b4dda0",
   "metadata": {
    "vscode": {
     "languageId": "plaintext"
    }
   },
   "source": [
    "an expression that converts 200 minutes into hours"
   ]
  },
  {
   "cell_type": "markdown",
   "id": "775da1af",
   "metadata": {
    "vscode": {
     "languageId": "plaintext"
    }
   },
   "source": [
    "This will convert 200 minutes to hours by diving by 60."
   ]
  },
  {
   "cell_type": "markdown",
   "id": "607c2e84",
   "metadata": {
    "vscode": {
     "languageId": "plaintext"
    }
   },
   "source": [
    "**Objectives:**\n"
   ]
  },
  {
   "cell_type": "markdown",
   "id": "8124c8c0",
   "metadata": {
    "vscode": {
     "languageId": "plaintext"
    }
   },
   "source": [
    "- List popular languages for Data Science  \n",
    "- Identify open-source tools used in Data Science  \n",
    "- Describe the roles of a Data Scientist  \n",
    "- Write and execute Python code in code cells  \n",
    "- Convert minutes to hours using basic arithmetic in Python "
   ]
  },
  {
   "cell_type": "markdown",
   "id": "254d63fc",
   "metadata": {
    "vscode": {
     "languageId": "plaintext"
    }
   },
   "source": [
    "## Author"
   ]
  },
  {
   "cell_type": "markdown",
   "id": "b5d021ed",
   "metadata": {
    "vscode": {
     "languageId": "plaintext"
    }
   },
   "source": [
    "Alex Johnson"
   ]
  }
 ],
 "metadata": {
  "language_info": {
   "name": "python"
  }
 },
 "nbformat": 4,
 "nbformat_minor": 5
}
